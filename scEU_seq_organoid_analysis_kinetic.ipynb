{
 "cells": [
  {
   "cell_type": "markdown",
   "metadata": {},
   "source": [
    "# scEU-seq organoid\n",
    "\n",
    "This tutorial uses the intestine organoid data from Battich, et al (2020). This tutorial is the second one of the two tutorials for demonstrating how dynamo can use used to analyze the scEU-seq data. Please refer the [cell cycle](https://dynamo-release.readthedocs.io/en/latest/scEU_seq_rpe1_analysis_kinetic.html) tutorial for details on how to analyze the cell cycle dataset.\n"
   ]
  },
  {
   "cell_type": "code",
   "execution_count": 1,
   "metadata": {
    "scrolled": true
   },
   "outputs": [
    {
     "name": "stdout",
     "output_type": "stream",
     "text": [
      "|-----> setting visualization default mode in dynamo. Your customized matplotlib settings might be overritten.\n"
     ]
    },
    {
     "data": {
      "text/html": [
       "<div>\n",
       "<style scoped>\n",
       "    .dataframe tbody tr th:only-of-type {\n",
       "        vertical-align: middle;\n",
       "    }\n",
       "\n",
       "    .dataframe tbody tr th {\n",
       "        vertical-align: top;\n",
       "    }\n",
       "\n",
       "    .dataframe thead th {\n",
       "        text-align: right;\n",
       "    }\n",
       "</style>\n",
       "<table border=\"1\" class=\"dataframe\">\n",
       "  <thead>\n",
       "    <tr style=\"text-align: right;\">\n",
       "      <th>package</th>\n",
       "      <th>umap-learn</th>\n",
       "      <th>pynndescent</th>\n",
       "      <th>python-igraph</th>\n",
       "      <th>numdifftools</th>\n",
       "      <th>seaborn</th>\n",
       "      <th>statsmodels</th>\n",
       "      <th>numba</th>\n",
       "      <th>scikit-learn</th>\n",
       "      <th>dynamo-release</th>\n",
       "      <th>cvxopt</th>\n",
       "      <th>pandas</th>\n",
       "      <th>scipy</th>\n",
       "      <th>numpy</th>\n",
       "      <th>colorcet</th>\n",
       "      <th>networkx</th>\n",
       "      <th>pre-commit</th>\n",
       "      <th>loompy</th>\n",
       "      <th>openpyxl</th>\n",
       "      <th>matplotlib</th>\n",
       "      <th>get-version</th>\n",
       "      <th>tqdm</th>\n",
       "      <th>setuptools</th>\n",
       "    </tr>\n",
       "  </thead>\n",
       "  <tbody>\n",
       "    <tr>\n",
       "      <th>version</th>\n",
       "      <td>0.5.3</td>\n",
       "      <td>0.5.7</td>\n",
       "      <td>0.9.11</td>\n",
       "      <td>0.9.40</td>\n",
       "      <td>0.11.2</td>\n",
       "      <td>0.13.2</td>\n",
       "      <td>0.55.1</td>\n",
       "      <td>1.0.2</td>\n",
       "      <td>1.1.0</td>\n",
       "      <td>1.3.0</td>\n",
       "      <td>1.4.2</td>\n",
       "      <td>1.7.3</td>\n",
       "      <td>1.21.5</td>\n",
       "      <td>2.0.6</td>\n",
       "      <td>2.7.1</td>\n",
       "      <td>2.19.0</td>\n",
       "      <td>3.0.7</td>\n",
       "      <td>3.0.9</td>\n",
       "      <td>3.5.1</td>\n",
       "      <td>3.5.4</td>\n",
       "      <td>4.64.0</td>\n",
       "      <td>61.2.0</td>\n",
       "    </tr>\n",
       "  </tbody>\n",
       "</table>\n",
       "</div>"
      ],
      "text/plain": [
       "package umap-learn pynndescent python-igraph numdifftools seaborn statsmodels  \\\n",
       "version      0.5.3       0.5.7        0.9.11       0.9.40  0.11.2      0.13.2   \n",
       "\n",
       "package   numba scikit-learn dynamo-release cvxopt pandas  scipy   numpy  \\\n",
       "version  0.55.1        1.0.2          1.1.0  1.3.0  1.4.2  1.7.3  1.21.5   \n",
       "\n",
       "package colorcet networkx pre-commit loompy openpyxl matplotlib get-version  \\\n",
       "version    2.0.6    2.7.1     2.19.0  3.0.7    3.0.9      3.5.1       3.5.4   \n",
       "\n",
       "package    tqdm setuptools  \n",
       "version  4.64.0     61.2.0  "
      ]
     },
     "metadata": {},
     "output_type": "display_data"
    }
   ],
   "source": [
    "import warnings\n",
    "warnings.filterwarnings('ignore')\n",
    "\n",
    "import dynamo as dyn\n",
    "import anndata\n",
    "import pandas as pd\n",
    "import numpy as np\n",
    "import scipy.sparse\n",
    "\n",
    "from anndata import AnnData\n",
    "from scipy.sparse import csr_matrix\n",
    "\n",
    "dyn.get_all_dependencies_version()"
   ]
  },
  {
   "cell_type": "markdown",
   "metadata": {},
   "source": [
    "## Load data"
   ]
  },
  {
   "cell_type": "code",
   "execution_count": 9,
   "metadata": {},
   "outputs": [],
   "source": [
    "organoid = dyn.sample_data.scEU_seq_organoid()\n",
    "# from anndata import read_h5ad\n",
    "# organoid = read_h5ad(filename = \"data/rpe1.h5ad\")\n",
    "# organoid.var_names_make_unique()"
   ]
  },
  {
   "cell_type": "code",
   "execution_count": 10,
   "metadata": {},
   "outputs": [
    {
     "data": {
      "text/plain": [
       "AnnData object with n_obs × n_vars = 5422 × 11848\n",
       "    obs: 'Plate_Id', 'Condition_Id', 'Well_Id', 'RFP_log10_corrected', 'GFP_log10_corrected', 'Cell_cycle_possition', 'Cell_cycle_relativePos', 'exp_type', 'time'\n",
       "    var: 'Gene_Id'\n",
       "    layers: 'sl', 'su', 'ul', 'uu'"
      ]
     },
     "execution_count": 10,
     "metadata": {},
     "output_type": "execute_result"
    }
   ],
   "source": [
    "organoid"
   ]
  },
  {
   "cell_type": "code",
   "execution_count": 11,
   "metadata": {},
   "outputs": [
    {
     "ename": "AttributeError",
     "evalue": "'DataFrame' object has no attribute 'som_cluster_id'",
     "output_type": "error",
     "traceback": [
      "\u001b[0;31m---------------------------------------------------------------------------\u001b[0m",
      "\u001b[0;31mAttributeError\u001b[0m                            Traceback (most recent call last)",
      "\u001b[1;32m/Users/xuezhengyang/Documents/Xue/Dynamo-Tutorial/scEU_seq_organoid_analysis_kinetic.ipynb Cell 6'\u001b[0m in \u001b[0;36m<cell line: 16>\u001b[0;34m()\u001b[0m\n\u001b[1;32m      <a href='vscode-notebook-cell:/Users/xuezhengyang/Documents/Xue/Dynamo-Tutorial/scEU_seq_organoid_analysis_kinetic.ipynb#ch0000005?line=0'>1</a>\u001b[0m \u001b[39m# mapping:\u001b[39;00m\n\u001b[1;32m      <a href='vscode-notebook-cell:/Users/xuezhengyang/Documents/Xue/Dynamo-Tutorial/scEU_seq_organoid_analysis_kinetic.ipynb#ch0000005?line=1'>2</a>\u001b[0m cell_mapper \u001b[39m=\u001b[39m {\n\u001b[1;32m      <a href='vscode-notebook-cell:/Users/xuezhengyang/Documents/Xue/Dynamo-Tutorial/scEU_seq_organoid_analysis_kinetic.ipynb#ch0000005?line=2'>3</a>\u001b[0m     \u001b[39m'\u001b[39m\u001b[39m1\u001b[39m\u001b[39m'\u001b[39m: \u001b[39m'\u001b[39m\u001b[39mEnterocytes\u001b[39m\u001b[39m'\u001b[39m,\n\u001b[1;32m      <a href='vscode-notebook-cell:/Users/xuezhengyang/Documents/Xue/Dynamo-Tutorial/scEU_seq_organoid_analysis_kinetic.ipynb#ch0000005?line=3'>4</a>\u001b[0m     \u001b[39m'\u001b[39m\u001b[39m2\u001b[39m\u001b[39m'\u001b[39m: \u001b[39m'\u001b[39m\u001b[39mEnterocytes\u001b[39m\u001b[39m'\u001b[39m,\n\u001b[0;32m   (...)\u001b[0m\n\u001b[1;32m     <a href='vscode-notebook-cell:/Users/xuezhengyang/Documents/Xue/Dynamo-Tutorial/scEU_seq_organoid_analysis_kinetic.ipynb#ch0000005?line=12'>13</a>\u001b[0m     \u001b[39m'\u001b[39m\u001b[39m11\u001b[39m\u001b[39m'\u001b[39m: \u001b[39m'\u001b[39m\u001b[39mStem cells\u001b[39m\u001b[39m'\u001b[39m,\n\u001b[1;32m     <a href='vscode-notebook-cell:/Users/xuezhengyang/Documents/Xue/Dynamo-Tutorial/scEU_seq_organoid_analysis_kinetic.ipynb#ch0000005?line=13'>14</a>\u001b[0m  }\n\u001b[0;32m---> <a href='vscode-notebook-cell:/Users/xuezhengyang/Documents/Xue/Dynamo-Tutorial/scEU_seq_organoid_analysis_kinetic.ipynb#ch0000005?line=15'>16</a>\u001b[0m organoid\u001b[39m.\u001b[39mobs[\u001b[39m'\u001b[39m\u001b[39mcell_type\u001b[39m\u001b[39m'\u001b[39m] \u001b[39m=\u001b[39m organoid\u001b[39m.\u001b[39;49mobs\u001b[39m.\u001b[39;49msom_cluster_id\u001b[39m.\u001b[39mmap(cell_mapper)\u001b[39m.\u001b[39mastype(\u001b[39m'\u001b[39m\u001b[39mstr\u001b[39m\u001b[39m'\u001b[39m)\n",
      "File \u001b[0;32m~/opt/anaconda3/lib/python3.9/site-packages/pandas/core/generic.py:5575\u001b[0m, in \u001b[0;36mNDFrame.__getattr__\u001b[0;34m(self, name)\u001b[0m\n\u001b[1;32m   5568\u001b[0m \u001b[39mif\u001b[39;00m (\n\u001b[1;32m   5569\u001b[0m     name \u001b[39mnot\u001b[39;00m \u001b[39min\u001b[39;00m \u001b[39mself\u001b[39m\u001b[39m.\u001b[39m_internal_names_set\n\u001b[1;32m   5570\u001b[0m     \u001b[39mand\u001b[39;00m name \u001b[39mnot\u001b[39;00m \u001b[39min\u001b[39;00m \u001b[39mself\u001b[39m\u001b[39m.\u001b[39m_metadata\n\u001b[1;32m   5571\u001b[0m     \u001b[39mand\u001b[39;00m name \u001b[39mnot\u001b[39;00m \u001b[39min\u001b[39;00m \u001b[39mself\u001b[39m\u001b[39m.\u001b[39m_accessors\n\u001b[1;32m   5572\u001b[0m     \u001b[39mand\u001b[39;00m \u001b[39mself\u001b[39m\u001b[39m.\u001b[39m_info_axis\u001b[39m.\u001b[39m_can_hold_identifiers_and_holds_name(name)\n\u001b[1;32m   5573\u001b[0m ):\n\u001b[1;32m   5574\u001b[0m     \u001b[39mreturn\u001b[39;00m \u001b[39mself\u001b[39m[name]\n\u001b[0;32m-> 5575\u001b[0m \u001b[39mreturn\u001b[39;00m \u001b[39mobject\u001b[39;49m\u001b[39m.\u001b[39;49m\u001b[39m__getattribute__\u001b[39;49m(\u001b[39mself\u001b[39;49m, name)\n",
      "\u001b[0;31mAttributeError\u001b[0m: 'DataFrame' object has no attribute 'som_cluster_id'"
     ]
    }
   ],
   "source": [
    "# mapping:\n",
    "cell_mapper = {\n",
    "    '1': 'Enterocytes',\n",
    "    '2': 'Enterocytes',\n",
    "    '3': 'Enteroendocrine',\n",
    "    '4': 'Enteroendocrine progenitor',\n",
    "    '5': 'Tuft cells',\n",
    "    '6': 'TA cells',\n",
    "    '7': 'TA cells',\n",
    "    '8': 'Stem cells',\n",
    "    '9': 'Paneth cells',\n",
    "    '10': 'Goblet cells',\n",
    "    '11': 'Stem cells',\n",
    " }\n",
    "\n",
    "organoid.obs['cell_type'] = organoid.obs.som_cluster_id.map(cell_mapper).astype('str')\n"
   ]
  },
  {
   "cell_type": "markdown",
   "metadata": {},
   "source": [
    "## typical dynamo analysis workflow\n"
   ]
  },
  {
   "cell_type": "code",
   "execution_count": null,
   "metadata": {},
   "outputs": [],
   "source": [
    "dyn.pl.basic_stats(organoid)"
   ]
  },
  {
   "cell_type": "code",
   "execution_count": null,
   "metadata": {},
   "outputs": [],
   "source": [
    "organoid"
   ]
  },
  {
   "cell_type": "code",
   "execution_count": null,
   "metadata": {},
   "outputs": [],
   "source": [
    "organoid.obs"
   ]
  },
  {
   "cell_type": "code",
   "execution_count": null,
   "metadata": {},
   "outputs": [],
   "source": [
    "organoid.obs.groupby(['exp_type', 'time']).agg('count')"
   ]
  },
  {
   "cell_type": "code",
   "execution_count": null,
   "metadata": {},
   "outputs": [],
   "source": [
    "adata = organoid.copy()\n",
    "adata.obs.time = adata.obs.time.astype('str')\n",
    "adata.obs.loc[adata.obs['time'] == 'dmso', 'time'] = -1\n",
    "adata.obs['time'] = adata.obs['time'].astype(float)\n",
    "adata = adata[adata.obs.time != -1, :]\n",
    "adata = adata[adata.obs.exp_type == 'Pulse', :]\n",
    "adata.layers['new'], adata.layers['total'] = adata.layers['ul'] + adata.layers['sl'], adata.layers['su'] + adata.layers['sl'] + adata.layers['uu'] + adata.layers['ul']\n",
    "del adata.layers['uu'], adata.layers['ul'], adata.layers['su'], adata.layers['sl']\n",
    "adata = dyn.pp.recipe_monocle(adata, n_top_genes=1000, total_layers=False)\n",
    "dyn.pl.basic_stats(adata)\n",
    "dyn.pl.show_fraction(organoid)"
   ]
  },
  {
   "cell_type": "code",
   "execution_count": null,
   "metadata": {},
   "outputs": [],
   "source": [
    "adata.obs.time = adata.obs.time/60"
   ]
  },
  {
   "cell_type": "code",
   "execution_count": null,
   "metadata": {},
   "outputs": [],
   "source": [
    "adata.obs.time  = adata.obs.time.astype('float')\n",
    "dyn.tl.dynamics(adata, model='deterministic', tkey='time', assumption_mRNA='ss')\n",
    "\n",
    "dyn.tl.reduceDimension(adata)"
   ]
  },
  {
   "cell_type": "code",
   "execution_count": null,
   "metadata": {},
   "outputs": [],
   "source": [
    "dyn.tl.cell_velocities(adata, ekey='M_t', vkey='velocity_T', enforce=True)\n"
   ]
  },
  {
   "cell_type": "code",
   "execution_count": null,
   "metadata": {},
   "outputs": [],
   "source": [
    "adata.obsm['X_umap_ori'] = adata.obs.loc[:, ['rotated_umap1', 'rotated_umap2']].values.astype(float)"
   ]
  },
  {
   "cell_type": "markdown",
   "metadata": {},
   "source": [
    "## Visualize time-resolved vector flow learned with dynamo "
   ]
  },
  {
   "cell_type": "code",
   "execution_count": null,
   "metadata": {},
   "outputs": [],
   "source": [
    "dyn.tl.cell_velocities(adata, basis='umap_ori')\n",
    "\n",
    "dyn.pl.streamline_plot(adata, color='cell_type', basis='umap_ori')\n"
   ]
  },
  {
   "cell_type": "code",
   "execution_count": null,
   "metadata": {},
   "outputs": [],
   "source": [
    "dyn.pl.streamline_plot(adata, color='cell_cycle_phase', basis='umap_ori')\n"
   ]
  },
  {
   "cell_type": "code",
   "execution_count": null,
   "metadata": {},
   "outputs": [],
   "source": [
    "adata.var_names[adata.var.use_for_transition][:5]"
   ]
  },
  {
   "cell_type": "code",
   "execution_count": null,
   "metadata": {},
   "outputs": [],
   "source": [
    "dyn.pl.phase_portraits(adata, genes=['Brat1', 'Ccnd2', 'Ckmt1', 'Pdgfb', 'Gpa33'],\n",
    "                       color='som_cluster_id', basis='umap_ori')\n"
   ]
  },
  {
   "cell_type": "markdown",
   "metadata": {},
   "source": [
    "## Animate intestine organoid differentiation"
   ]
  },
  {
   "cell_type": "code",
   "execution_count": null,
   "metadata": {},
   "outputs": [],
   "source": [
    "dyn.vf.VectorField(adata, basis='umap_ori')\n"
   ]
  },
  {
   "cell_type": "code",
   "execution_count": null,
   "metadata": {},
   "outputs": [],
   "source": [
    "progenitor = adata.obs_names[adata.obs.cell_type == 'Stem cells']\n",
    "len(progenitor)"
   ]
  },
  {
   "cell_type": "code",
   "execution_count": null,
   "metadata": {},
   "outputs": [],
   "source": [
    "np.random.seed(19491001)\n",
    "\n",
    "from matplotlib import animation\n",
    "info_genes = adata.var_names[adata.var.use_for_transition]\n",
    "dyn.pd.fate(adata, basis='umap_ori', init_cells=progenitor[:100], interpolation_num=100,  direction='forward',\n",
    "   inverse_transform=False, average=False)\n"
   ]
  },
  {
   "cell_type": "code",
   "execution_count": null,
   "metadata": {},
   "outputs": [],
   "source": [
    "%%capture\n",
    "import matplotlib.pyplot as plt \n",
    "\n",
    "fig, ax = plt.subplots()\n",
    "ax = dyn.pl.topography(adata, basis='umap_ori', color='cell_type', ax=ax, save_show_or_return='return',  figsize=(24, 24))\n",
    "ax.set_aspect(0.8)\n"
   ]
  },
  {
   "cell_type": "code",
   "execution_count": null,
   "metadata": {},
   "outputs": [],
   "source": [
    "%%capture\n",
    "adata.obs['time'] = adata.obs.time.astype('float')\n",
    "instance = dyn.mv.StreamFuncAnim(adata=adata, basis='umap_ori', color='cell_type', ax=ax)"
   ]
  }
 ],
 "metadata": {
  "kernelspec": {
   "display_name": "Python 3.9.12 ('base')",
   "language": "python",
   "name": "python3"
  },
  "language_info": {
   "codemirror_mode": {
    "name": "ipython",
    "version": 3
   },
   "file_extension": ".py",
   "mimetype": "text/x-python",
   "name": "python",
   "nbconvert_exporter": "python",
   "pygments_lexer": "ipython3",
   "version": "3.9.12"
  },
  "vscode": {
   "interpreter": {
    "hash": "b7d01d0b637a867fe9da72acb7dc451f754fcc65a8cccccddaafc614569e0c1a"
   }
  },
  "widgets": {
   "application/vnd.jupyter.widget-state+json": {
    "state": {},
    "version_major": 2,
    "version_minor": 0
   }
  }
 },
 "nbformat": 4,
 "nbformat_minor": 4
}
