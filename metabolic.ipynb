{
 "cells": [
  {
   "cell_type": "code",
   "execution_count": 5,
   "metadata": {},
   "outputs": [
    {
     "data": {
      "text/html": [
       "<div>\n",
       "<style scoped>\n",
       "    .dataframe tbody tr th:only-of-type {\n",
       "        vertical-align: middle;\n",
       "    }\n",
       "\n",
       "    .dataframe tbody tr th {\n",
       "        vertical-align: top;\n",
       "    }\n",
       "\n",
       "    .dataframe thead th {\n",
       "        text-align: right;\n",
       "    }\n",
       "</style>\n",
       "<table border=\"1\" class=\"dataframe\">\n",
       "  <thead>\n",
       "    <tr style=\"text-align: right;\">\n",
       "      <th>package</th>\n",
       "      <th>umap-learn</th>\n",
       "      <th>pynndescent</th>\n",
       "      <th>python-igraph</th>\n",
       "      <th>numdifftools</th>\n",
       "      <th>seaborn</th>\n",
       "      <th>statsmodels</th>\n",
       "      <th>numba</th>\n",
       "      <th>scikit-learn</th>\n",
       "      <th>dynamo-release</th>\n",
       "      <th>cvxopt</th>\n",
       "      <th>pandas</th>\n",
       "      <th>scipy</th>\n",
       "      <th>numpy</th>\n",
       "      <th>colorcet</th>\n",
       "      <th>networkx</th>\n",
       "      <th>pre-commit</th>\n",
       "      <th>loompy</th>\n",
       "      <th>openpyxl</th>\n",
       "      <th>matplotlib</th>\n",
       "      <th>get-version</th>\n",
       "      <th>tqdm</th>\n",
       "      <th>setuptools</th>\n",
       "    </tr>\n",
       "  </thead>\n",
       "  <tbody>\n",
       "    <tr>\n",
       "      <th>version</th>\n",
       "      <td>0.5.3</td>\n",
       "      <td>0.5.7</td>\n",
       "      <td>0.9.11</td>\n",
       "      <td>0.9.40</td>\n",
       "      <td>0.11.2</td>\n",
       "      <td>0.13.2</td>\n",
       "      <td>0.55.1</td>\n",
       "      <td>1.0.2</td>\n",
       "      <td>1.1.0</td>\n",
       "      <td>1.3.0</td>\n",
       "      <td>1.4.2</td>\n",
       "      <td>1.7.3</td>\n",
       "      <td>1.21.5</td>\n",
       "      <td>2.0.6</td>\n",
       "      <td>2.7.1</td>\n",
       "      <td>2.19.0</td>\n",
       "      <td>3.0.7</td>\n",
       "      <td>3.0.9</td>\n",
       "      <td>3.5.1</td>\n",
       "      <td>3.5.4</td>\n",
       "      <td>4.64.0</td>\n",
       "      <td>61.2.0</td>\n",
       "    </tr>\n",
       "  </tbody>\n",
       "</table>\n",
       "</div>"
      ],
      "text/plain": [
       "package umap-learn pynndescent python-igraph numdifftools seaborn statsmodels  \\\n",
       "version      0.5.3       0.5.7        0.9.11       0.9.40  0.11.2      0.13.2   \n",
       "\n",
       "package   numba scikit-learn dynamo-release cvxopt pandas  scipy   numpy  \\\n",
       "version  0.55.1        1.0.2          1.1.0  1.3.0  1.4.2  1.7.3  1.21.5   \n",
       "\n",
       "package colorcet networkx pre-commit loompy openpyxl matplotlib get-version  \\\n",
       "version    2.0.6    2.7.1     2.19.0  3.0.7    3.0.9      3.5.1       3.5.4   \n",
       "\n",
       "package    tqdm setuptools  \n",
       "version  4.64.0     61.2.0  "
      ]
     },
     "metadata": {},
     "output_type": "display_data"
    }
   ],
   "source": [
    "import numpy as np\n",
    "import pandas as pd\n",
    "import matplotlib.pyplot as plt \n",
    "\n",
    "import warnings\n",
    "warnings.filterwarnings('ignore')\n",
    "\n",
    "import dynamo as dyn\n",
    "\n",
    "dyn.get_all_dependencies_version()"
   ]
  },
  {
   "cell_type": "code",
   "execution_count": 7,
   "metadata": {},
   "outputs": [
    {
     "data": {
      "text/plain": [
       "AnnData object with n_obs × n_vars = 1947 × 26193\n",
       "    obs: 'batch', 'cell_type', 'time'\n",
       "    var: 'gene_name_mapping'\n",
       "    uns: 'genes_to_use'\n",
       "    obsm: 'X_umap'\n",
       "    layers: 'new', 'spliced', 'total', 'unspliced'"
      ]
     },
     "execution_count": 7,
     "metadata": {},
     "output_type": "execute_result"
    }
   ],
   "source": [
    "# adata_hsc_raw = dyn.sample_data.hematopoiesis_raw()\n",
    "adata_hsc_raw = dyn.read_h5ad('data/hsc_raw_with_metadata.h5ad')\n",
    "adata_hsc_raw"
   ]
  },
  {
   "cell_type": "code",
   "execution_count": 9,
   "metadata": {},
   "outputs": [
    {
     "data": {
      "text/plain": [
       "array([3, 5])"
      ]
     },
     "execution_count": 9,
     "metadata": {},
     "output_type": "execute_result"
    }
   ],
   "source": [
    "adata_hsc_raw.obs['time'].unique()"
   ]
  },
  {
   "cell_type": "code",
   "execution_count": 18,
   "metadata": {},
   "outputs": [
    {
     "data": {
      "text/plain": [
       "AnnData object with n_obs × n_vars = 1947 × 1956\n",
       "    obs: 'batch', 'time', 'cell_type', 'nGenes', 'nCounts', 'pMito', 'pass_basic_filter', 'new_Size_Factor', 'initial_new_cell_size', 'total_Size_Factor', 'initial_total_cell_size', 'spliced_Size_Factor', 'initial_spliced_cell_size', 'unspliced_Size_Factor', 'initial_unspliced_cell_size', 'Size_Factor', 'initial_cell_size', 'ntr', 'cell_cycle_phase', 'leiden', 'control_point_pca', 'inlier_prob_pca', 'obs_vf_angle_pca', 'pca_ddhodge_div', 'pca_ddhodge_potential', 'acceleration_pca', 'curvature_pca', 'n_counts', 'mt_frac', 'jacobian_det_pca', 'manual_selection', 'divergence_pca', 'curv_leiden', 'curv_louvain', 'SPI1->GATA1_jacobian', 'jacobian', 'umap_ori_leiden', 'umap_ori_louvain', 'umap_ddhodge_div', 'umap_ddhodge_potential', 'curl_umap', 'divergence_umap', 'acceleration_umap', 'control_point_umap_ori', 'inlier_prob_umap_ori', 'obs_vf_angle_umap_ori', 'curvature_umap_ori'\n",
       "    var: 'gene_name', 'gene_id', 'nCells', 'nCounts', 'pass_basic_filter', 'use_for_pca', 'frac', 'ntr', 'time_3_alpha', 'time_3_beta', 'time_3_gamma', 'time_3_half_life', 'time_3_alpha_b', 'time_3_alpha_r2', 'time_3_gamma_b', 'time_3_gamma_r2', 'time_3_gamma_logLL', 'time_3_delta_b', 'time_3_delta_r2', 'time_3_bs', 'time_3_bf', 'time_3_uu0', 'time_3_ul0', 'time_3_su0', 'time_3_sl0', 'time_3_U0', 'time_3_S0', 'time_3_total0', 'time_3_beta_k', 'time_3_gamma_k', 'time_5_alpha', 'time_5_beta', 'time_5_gamma', 'time_5_half_life', 'time_5_alpha_b', 'time_5_alpha_r2', 'time_5_gamma_b', 'time_5_gamma_r2', 'time_5_gamma_logLL', 'time_5_bs', 'time_5_bf', 'time_5_uu0', 'time_5_ul0', 'time_5_su0', 'time_5_sl0', 'time_5_U0', 'time_5_S0', 'time_5_total0', 'time_5_beta_k', 'time_5_gamma_k', 'use_for_dynamics', 'gamma', 'gamma_r2', 'use_for_transition', 'gamma_k', 'gamma_b'\n",
       "    uns: 'PCs', 'VecFld_pca', 'VecFld_umap', 'X_umap_neighbors', 'cell_phase_genes', 'cell_type_colors', 'dynamics', 'explained_variance_ratio_', 'feature_selection', 'grid_velocity_pca', 'grid_velocity_umap', 'grid_velocity_umap_ori_perturbation', 'grid_velocity_umap_test', 'jacobian_pca', 'leiden', 'neighbors', 'pca_mean', 'pp', 'response'\n",
       "    obsm: 'X', 'X_pca', 'X_pca_SparseVFC', 'X_umap', 'X_umap_SparseVFC', 'X_umap_ori_perturbation', 'X_umap_test', 'acceleration_pca', 'acceleration_umap', 'cell_cycle_scores', 'curvature_pca', 'curvature_umap', 'j_delta_x_perturbation', 'velocity_pca', 'velocity_pca_SparseVFC', 'velocity_umap', 'velocity_umap_SparseVFC', 'velocity_umap_ori_perturbation', 'velocity_umap_test'\n",
       "    layers: 'M_n', 'M_nn', 'M_t', 'M_tn', 'M_tt', 'X_new', 'X_total', 'velocity_alpha_minus_gamma_s'\n",
       "    obsp: 'X_umap_connectivities', 'X_umap_distances', 'connectivities', 'cosine_transition_matrix', 'distances', 'fp_transition_rate', 'moments_con', 'pca_ddhodge', 'perturbation_transition_matrix', 'umap_ddhodge'"
      ]
     },
     "execution_count": 18,
     "metadata": {},
     "output_type": "execute_result"
    }
   ],
   "source": [
    "adata = dyn.read_h5ad('data/hematopoiesis_v1.h5ad')\n",
    "adata"
   ]
  },
  {
   "cell_type": "code",
   "execution_count": 20,
   "metadata": {},
   "outputs": [
    {
     "data": {
      "text/plain": [
       "array([3, 5])"
      ]
     },
     "execution_count": 20,
     "metadata": {},
     "output_type": "execute_result"
    }
   ],
   "source": [
    "adata.obs['time'].unique()"
   ]
  }
 ],
 "metadata": {
  "kernelspec": {
   "display_name": "Python 3.9.12 ('base')",
   "language": "python",
   "name": "python3"
  },
  "language_info": {
   "codemirror_mode": {
    "name": "ipython",
    "version": 3
   },
   "file_extension": ".py",
   "mimetype": "text/x-python",
   "name": "python",
   "nbconvert_exporter": "python",
   "pygments_lexer": "ipython3",
   "version": "3.9.12"
  },
  "orig_nbformat": 4,
  "vscode": {
   "interpreter": {
    "hash": "b7d01d0b637a867fe9da72acb7dc451f754fcc65a8cccccddaafc614569e0c1a"
   }
  }
 },
 "nbformat": 4,
 "nbformat_minor": 2
}
