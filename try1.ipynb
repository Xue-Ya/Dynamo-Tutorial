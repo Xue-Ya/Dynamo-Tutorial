{
 "cells": [
  {
   "cell_type": "code",
   "execution_count": 2,
   "metadata": {},
   "outputs": [
    {
     "name": "stdout",
     "output_type": "stream",
     "text": [
      "|-----> setting visualization default mode in dynamo. Your customized matplotlib settings might be overritten.\n"
     ]
    },
    {
     "data": {
      "text/html": [
       "<div>\n",
       "<style scoped>\n",
       "    .dataframe tbody tr th:only-of-type {\n",
       "        vertical-align: middle;\n",
       "    }\n",
       "\n",
       "    .dataframe tbody tr th {\n",
       "        vertical-align: top;\n",
       "    }\n",
       "\n",
       "    .dataframe thead th {\n",
       "        text-align: right;\n",
       "    }\n",
       "</style>\n",
       "<table border=\"1\" class=\"dataframe\">\n",
       "  <thead>\n",
       "    <tr style=\"text-align: right;\">\n",
       "      <th>package</th>\n",
       "      <th>umap-learn</th>\n",
       "      <th>pynndescent</th>\n",
       "      <th>python-igraph</th>\n",
       "      <th>numdifftools</th>\n",
       "      <th>seaborn</th>\n",
       "      <th>statsmodels</th>\n",
       "      <th>numba</th>\n",
       "      <th>scikit-learn</th>\n",
       "      <th>dynamo-release</th>\n",
       "      <th>cvxopt</th>\n",
       "      <th>pandas</th>\n",
       "      <th>scipy</th>\n",
       "      <th>numpy</th>\n",
       "      <th>colorcet</th>\n",
       "      <th>networkx</th>\n",
       "      <th>pre-commit</th>\n",
       "      <th>loompy</th>\n",
       "      <th>openpyxl</th>\n",
       "      <th>matplotlib</th>\n",
       "      <th>get-version</th>\n",
       "      <th>tqdm</th>\n",
       "      <th>setuptools</th>\n",
       "    </tr>\n",
       "  </thead>\n",
       "  <tbody>\n",
       "    <tr>\n",
       "      <th>version</th>\n",
       "      <td>0.5.3</td>\n",
       "      <td>0.5.7</td>\n",
       "      <td>0.9.11</td>\n",
       "      <td>0.9.40</td>\n",
       "      <td>0.11.2</td>\n",
       "      <td>0.13.2</td>\n",
       "      <td>0.55.1</td>\n",
       "      <td>1.0.2</td>\n",
       "      <td>1.1.0</td>\n",
       "      <td>1.3.0</td>\n",
       "      <td>1.4.2</td>\n",
       "      <td>1.7.3</td>\n",
       "      <td>1.21.5</td>\n",
       "      <td>2.0.6</td>\n",
       "      <td>2.7.1</td>\n",
       "      <td>2.19.0</td>\n",
       "      <td>3.0.7</td>\n",
       "      <td>3.0.9</td>\n",
       "      <td>3.5.1</td>\n",
       "      <td>3.5.4</td>\n",
       "      <td>4.64.0</td>\n",
       "      <td>61.2.0</td>\n",
       "    </tr>\n",
       "  </tbody>\n",
       "</table>\n",
       "</div>"
      ],
      "text/plain": [
       "package umap-learn pynndescent python-igraph numdifftools seaborn statsmodels  \\\n",
       "version      0.5.3       0.5.7        0.9.11       0.9.40  0.11.2      0.13.2   \n",
       "\n",
       "package   numba scikit-learn dynamo-release cvxopt pandas  scipy   numpy  \\\n",
       "version  0.55.1        1.0.2          1.1.0  1.3.0  1.4.2  1.7.3  1.21.5   \n",
       "\n",
       "package colorcet networkx pre-commit loompy openpyxl matplotlib get-version  \\\n",
       "version    2.0.6    2.7.1     2.19.0  3.0.7    3.0.9      3.5.1       3.5.4   \n",
       "\n",
       "package    tqdm setuptools  \n",
       "version  4.64.0     61.2.0  "
      ]
     },
     "metadata": {},
     "output_type": "display_data"
    }
   ],
   "source": [
    "import numpy as np\n",
    "import pandas as pd\n",
    "import matplotlib.pyplot as plt \n",
    "import scvelo as scv\n",
    "import scanpy\n",
    "\n",
    "import warnings\n",
    "warnings.filterwarnings('ignore')\n",
    "\n",
    "import dynamo as dyn\n",
    "\n",
    "dyn.get_all_dependencies_version()"
   ]
  },
  {
   "cell_type": "code",
   "execution_count": 3,
   "metadata": {},
   "outputs": [
    {
     "ename": "FileNotFoundError",
     "evalue": "[Errno 2] Unable to open file (unable to open file: name = '/data/groups/yhhuang/scNT/neuron_splicing_lite.h5ad', errno = 2, error message = 'No such file or directory', flags = 0, o_flags = 0)",
     "output_type": "error",
     "traceback": [
      "\u001b[0;31m---------------------------------------------------------------------------\u001b[0m",
      "\u001b[0;31mFileNotFoundError\u001b[0m                         Traceback (most recent call last)",
      "\u001b[1;32m/Users/xuezhengyang/Documents/Xue/Dynamo-Tutorial/try1.ipynb Cell 2'\u001b[0m in \u001b[0;36m<cell line: 1>\u001b[0;34m()\u001b[0m\n\u001b[0;32m----> <a href='vscode-notebook-cell:/Users/xuezhengyang/Documents/Xue/Dynamo-Tutorial/try1.ipynb#ch0000001?line=0'>1</a>\u001b[0m adata \u001b[39m=\u001b[39m scanpy\u001b[39m.\u001b[39;49mread_h5ad(\u001b[39m'\u001b[39;49m\u001b[39m/data/groups/yhhuang/scNT/neuron_splicing_lite.h5ad\u001b[39;49m\u001b[39m'\u001b[39;49m)\n\u001b[1;32m      <a href='vscode-notebook-cell:/Users/xuezhengyang/Documents/Xue/Dynamo-Tutorial/try1.ipynb#ch0000001?line=1'>2</a>\u001b[0m \u001b[39mprint\u001b[39m(adata)\n",
      "File \u001b[0;32m~/opt/anaconda3/lib/python3.9/site-packages/anndata/_io/h5ad.py:413\u001b[0m, in \u001b[0;36mread_h5ad\u001b[0;34m(filename, backed, as_sparse, as_sparse_fmt, chunk_size)\u001b[0m\n\u001b[1;32m    405\u001b[0m         \u001b[39mraise\u001b[39;00m \u001b[39mNotImplementedError\u001b[39;00m(\n\u001b[1;32m    406\u001b[0m             \u001b[39m\"\u001b[39m\u001b[39mCurrently only `X` and `raw/X` can be read as sparse.\u001b[39m\u001b[39m\"\u001b[39m\n\u001b[1;32m    407\u001b[0m         )\n\u001b[1;32m    409\u001b[0m rdasp \u001b[39m=\u001b[39m partial(\n\u001b[1;32m    410\u001b[0m     read_dense_as_sparse, sparse_format\u001b[39m=\u001b[39mas_sparse_fmt, axis_chunk\u001b[39m=\u001b[39mchunk_size\n\u001b[1;32m    411\u001b[0m )\n\u001b[0;32m--> 413\u001b[0m \u001b[39mwith\u001b[39;00m h5py\u001b[39m.\u001b[39;49mFile(filename, \u001b[39m\"\u001b[39;49m\u001b[39mr\u001b[39;49m\u001b[39m\"\u001b[39;49m) \u001b[39mas\u001b[39;00m f:\n\u001b[1;32m    414\u001b[0m     d \u001b[39m=\u001b[39m {}\n\u001b[1;32m    415\u001b[0m     \u001b[39mfor\u001b[39;00m k \u001b[39min\u001b[39;00m f\u001b[39m.\u001b[39mkeys():\n\u001b[1;32m    416\u001b[0m         \u001b[39m# Backwards compat for old raw\u001b[39;00m\n",
      "File \u001b[0;32m~/opt/anaconda3/lib/python3.9/site-packages/h5py/_hl/files.py:507\u001b[0m, in \u001b[0;36mFile.__init__\u001b[0;34m(self, name, mode, driver, libver, userblock_size, swmr, rdcc_nslots, rdcc_nbytes, rdcc_w0, track_order, fs_strategy, fs_persist, fs_threshold, fs_page_size, page_buf_size, min_meta_keep, min_raw_keep, locking, **kwds)\u001b[0m\n\u001b[1;32m    502\u001b[0m     fapl \u001b[39m=\u001b[39m make_fapl(driver, libver, rdcc_nslots, rdcc_nbytes, rdcc_w0,\n\u001b[1;32m    503\u001b[0m                      locking, page_buf_size, min_meta_keep, min_raw_keep, \u001b[39m*\u001b[39m\u001b[39m*\u001b[39mkwds)\n\u001b[1;32m    504\u001b[0m     fcpl \u001b[39m=\u001b[39m make_fcpl(track_order\u001b[39m=\u001b[39mtrack_order, fs_strategy\u001b[39m=\u001b[39mfs_strategy,\n\u001b[1;32m    505\u001b[0m                      fs_persist\u001b[39m=\u001b[39mfs_persist, fs_threshold\u001b[39m=\u001b[39mfs_threshold,\n\u001b[1;32m    506\u001b[0m                      fs_page_size\u001b[39m=\u001b[39mfs_page_size)\n\u001b[0;32m--> 507\u001b[0m     fid \u001b[39m=\u001b[39m make_fid(name, mode, userblock_size, fapl, fcpl, swmr\u001b[39m=\u001b[39;49mswmr)\n\u001b[1;32m    509\u001b[0m \u001b[39mif\u001b[39;00m \u001b[39misinstance\u001b[39m(libver, \u001b[39mtuple\u001b[39m):\n\u001b[1;32m    510\u001b[0m     \u001b[39mself\u001b[39m\u001b[39m.\u001b[39m_libver \u001b[39m=\u001b[39m libver\n",
      "File \u001b[0;32m~/opt/anaconda3/lib/python3.9/site-packages/h5py/_hl/files.py:220\u001b[0m, in \u001b[0;36mmake_fid\u001b[0;34m(name, mode, userblock_size, fapl, fcpl, swmr)\u001b[0m\n\u001b[1;32m    218\u001b[0m     \u001b[39mif\u001b[39;00m swmr \u001b[39mand\u001b[39;00m swmr_support:\n\u001b[1;32m    219\u001b[0m         flags \u001b[39m|\u001b[39m\u001b[39m=\u001b[39m h5f\u001b[39m.\u001b[39mACC_SWMR_READ\n\u001b[0;32m--> 220\u001b[0m     fid \u001b[39m=\u001b[39m h5f\u001b[39m.\u001b[39;49mopen(name, flags, fapl\u001b[39m=\u001b[39;49mfapl)\n\u001b[1;32m    221\u001b[0m \u001b[39melif\u001b[39;00m mode \u001b[39m==\u001b[39m \u001b[39m'\u001b[39m\u001b[39mr+\u001b[39m\u001b[39m'\u001b[39m:\n\u001b[1;32m    222\u001b[0m     fid \u001b[39m=\u001b[39m h5f\u001b[39m.\u001b[39mopen(name, h5f\u001b[39m.\u001b[39mACC_RDWR, fapl\u001b[39m=\u001b[39mfapl)\n",
      "File \u001b[0;32mh5py/_objects.pyx:54\u001b[0m, in \u001b[0;36mh5py._objects.with_phil.wrapper\u001b[0;34m()\u001b[0m\n",
      "File \u001b[0;32mh5py/_objects.pyx:55\u001b[0m, in \u001b[0;36mh5py._objects.with_phil.wrapper\u001b[0;34m()\u001b[0m\n",
      "File \u001b[0;32mh5py/h5f.pyx:106\u001b[0m, in \u001b[0;36mh5py.h5f.open\u001b[0;34m()\u001b[0m\n",
      "\u001b[0;31mFileNotFoundError\u001b[0m: [Errno 2] Unable to open file (unable to open file: name = '/data/groups/yhhuang/scNT/neuron_splicing_lite.h5ad', errno = 2, error message = 'No such file or directory', flags = 0, o_flags = 0)"
     ]
    }
   ],
   "source": [
    "adata = scanpy.read_h5ad('/data/groups/yhhuang/scNT/neuron_splicing_lite.h5ad')\n",
    "print(adata)\n"
   ]
  },
  {
   "cell_type": "code",
   "execution_count": null,
   "metadata": {},
   "outputs": [],
   "source": []
  },
  {
   "cell_type": "code",
   "execution_count": null,
   "metadata": {},
   "outputs": [],
   "source": []
  },
  {
   "cell_type": "code",
   "execution_count": null,
   "metadata": {},
   "outputs": [],
   "source": []
  }
 ],
 "metadata": {
  "kernelspec": {
   "display_name": "Python 3.9.12 ('base')",
   "language": "python",
   "name": "python3"
  },
  "language_info": {
   "codemirror_mode": {
    "name": "ipython",
    "version": 3
   },
   "file_extension": ".py",
   "mimetype": "text/x-python",
   "name": "python",
   "nbconvert_exporter": "python",
   "pygments_lexer": "ipython3",
   "version": "3.9.12"
  },
  "orig_nbformat": 4,
  "vscode": {
   "interpreter": {
    "hash": "b7d01d0b637a867fe9da72acb7dc451f754fcc65a8cccccddaafc614569e0c1a"
   }
  }
 },
 "nbformat": 4,
 "nbformat_minor": 2
}
